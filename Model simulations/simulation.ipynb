{
 "cells": [
  {
   "cell_type": "code",
   "execution_count": 2,
   "metadata": {},
   "outputs": [],
   "source": [
    "%load_ext autoreload\n",
    "%autoreload 2\n",
    "\n",
    "import numpy as np\n",
    "import matplotlib.pyplot as plt\n",
    "import scipy.stats as stats\n",
    "import simulations as sim\n",
    "import pickle\n",
    "import math\n",
    "import scipy.optimize as opt\n",
    "import matplotlib.pylab as pl"
   ]
  },
  {
   "cell_type": "code",
   "execution_count": 3,
   "metadata": {},
   "outputs": [],
   "source": [
    "params_bernoulli1 = np.array([.45, .45, .45, .45, .45, .45, .45, .45, .45, .55])\n",
    "params_bernoulli2 = np.array([0.2, 0.2, 0.2, 0.2, 0.2, .3])\n",
    "params_bernoulli3 = np.array([.8, .8, .8, .8, .8, .8, .8, .8, .8, .9])\n",
    "\n",
    "\n",
    "params_gaussian = np.array([[.45, .45, .45, .45, .45, .45, .45, .45, .45, .55],  \n",
    "                             [0.3, 0.3, 0.3, 0.3, 0.3, 0.3, 0.3, 0.3, 0.3, 0.3]])\n",
    "\n",
    "params_gershman = [[[0, 0], [np.sqrt(10), np.sqrt(10)]], \n",
    "                             [1, 1]]\n"
   ]
  },
  {
   "attachments": {},
   "cell_type": "markdown",
   "metadata": {},
   "source": [
    "## Bernoulli 1"
   ]
  },
  {
   "cell_type": "code",
   "execution_count": 439,
   "metadata": {},
   "outputs": [],
   "source": [
    "distribution = \"Bernoulli\"\n",
    "model = 'ucb1'\n",
    "env_parameters = params_bernoulli1 \n",
    "sim_params = []\n",
    "\n",
    "regrets_bernoulli1_ucb1 = sim.run(distribution, env_parameters, model, sim_params)"
   ]
  },
  {
   "cell_type": "code",
   "execution_count": 440,
   "metadata": {},
   "outputs": [],
   "source": [
    "distribution = \"Bernoulli\"\n",
    "model = 'ucb2'\n",
    "env_parameters = params_bernoulli1\n",
    "sim_params = 0.1166 # alpha\n",
    "\n",
    "regrets_bernoulli1_ucb2 = sim.run(distribution, env_parameters, model, sim_params)"
   ]
  },
  {
   "cell_type": "code",
   "execution_count": 441,
   "metadata": {},
   "outputs": [],
   "source": [
    "distribution = \"Bernoulli\"\n",
    "model = 'ucb-normal'\n",
    "env_parameters = params_bernoulli1 \n",
    "sim_params = []\n",
    "\n",
    "regrets_bernoulli1_ucb_normal = sim.run(distribution, env_parameters, model, sim_params)"
   ]
  },
  {
   "cell_type": "code",
   "execution_count": 442,
   "metadata": {},
   "outputs": [],
   "source": [
    "distribution = \"Bernoulli\"\n",
    "model = 'ucb-tuned'\n",
    "env_parameters = params_bernoulli1 \n",
    "sim_params = []\n",
    "\n",
    "regrets_bernoulli1_ucb_tuned = sim.run(distribution, env_parameters, model, sim_params)"
   ]
  },
  {
   "cell_type": "code",
   "execution_count": 55,
   "metadata": {},
   "outputs": [],
   "source": [
    "distribution = \"Bernoulli\"\n",
    "model = 'neural'\n",
    "env_parameters = params_bernoulli1 \n",
    "\n",
    "sim_params = [True,    # dynamic LR\n",
    "              .4646,       # alpha_q\n",
    "              .4218,       # alpha_s\n",
    "              5.568,       # lambda\n",
    "              -0.791, # power\n",
    "              0      # e       \n",
    "              ]   \n",
    "\n",
    "\n",
    "\n",
    "regrets_bernoulli1_neural_dynamic_general_power = sim.run(distribution, env_parameters, model, sim_params, 1000, 5000)"
   ]
  },
  {
   "cell_type": "code",
   "execution_count": 51,
   "metadata": {},
   "outputs": [],
   "source": [
    "distribution = \"Bernoulli\"\n",
    "model = 'neural'\n",
    "env_parameters = params_bernoulli1 \n",
    "\n",
    "sim_params = [True,    # dynamic LR\n",
    "              .06262,       # alpha_q\n",
    "              .06238,       # alpha_s\n",
    "              0.6261,       # lambda\n",
    "              -0.5, # power\n",
    "              0      # e       \n",
    "              ]   \n",
    "\n",
    "regrets_bernoulli1_neural_dynamic_inv_sqrt = sim.run(distribution, env_parameters, model, sim_params)"
   ]
  },
  {
   "cell_type": "code",
   "execution_count": 58,
   "metadata": {},
   "outputs": [],
   "source": [
    "distribution = \"Bernoulli\"\n",
    "model = 'neural'\n",
    "env_parameters = params_bernoulli1 \n",
    "\n",
    "sim_params = [False,    # dynamic LR\n",
    "              .06279,       # alpha_q\n",
    "              .06259,       # alpha_s\n",
    "              0.6262,       # lambda\n",
    "              -0.5, # power\n",
    "              0      # e       \n",
    "              ]        \n",
    "\n",
    "regrets_bernoulli1_neural_fixed_inv_sqrt = sim.run(distribution, env_parameters, model, sim_params)"
   ]
  },
  {
   "cell_type": "code",
   "execution_count": 72,
   "metadata": {},
   "outputs": [],
   "source": [
    "distribution = \"Bernoulli\"\n",
    "model = 'neural'\n",
    "env_parameters = params_bernoulli1 \n",
    "\n",
    "sim_params = [False,    # dynamic LR\n",
    "              0.06265,       # alpha_q\n",
    "              0.06265,       # alpha_s\n",
    "              0.6249,       # lambda\n",
    "              -0.791, # power\n",
    "              0      # e       \n",
    "              ]       \n",
    "\n",
    "\n",
    "regrets_bernoulli1_neural_fixed_general_power = sim.run(distribution, env_parameters, model, sim_params)"
   ]
  },
  {
   "cell_type": "code",
   "execution_count": 158,
   "metadata": {},
   "outputs": [],
   "source": [
    "distribution = \"Bernoulli\"\n",
    "model = 'kalman'\n",
    "env_parameters = params_bernoulli1 \n",
    "sim_params = [2.701,       # lambda\n",
    "              0        # e\n",
    "              ]\n",
    "\n",
    "regrets_bernoulli1_kalman = sim.run(distribution, env_parameters, model, sim_params)"
   ]
  },
  {
   "cell_type": "code",
   "execution_count": 14,
   "metadata": {},
   "outputs": [],
   "source": [
    "distribution = \"Bernoulli\"\n",
    "model = 'opal-star'\n",
    "env_parameters = params_bernoulli1 \n",
    "sim_params = [0.025, 0.1, 1]\n",
    "\n",
    "regrets_bernoulli1_opal_star = sim.run(distribution, env_parameters, model, sim_params)"
   ]
  },
  {
   "cell_type": "code",
   "execution_count": 452,
   "metadata": {},
   "outputs": [],
   "source": [
    "regrets_bernoulli1 = [\n",
    "    regrets_bernoulli1_ucb1,\n",
    "    regrets_bernoulli1_ucb2,\n",
    "    regrets_bernoulli1_ucb_tuned,\n",
    "    regrets_bernoulli1_ucb_normal,\n",
    "    regrets_bernoulli1_kalman,\n",
    "    regrets_bernoulli1_neural_dynamic_inv_sqrt,\n",
    "    regrets_bernoulli1_neural_dynamic_general_power,\n",
    "    regrets_bernoulli1_neural_fixed_inv_sqrt,\n",
    "    regrets_bernoulli1_neural_fixed_general_power,\n",
    "    regrets_bernoulli1_opal_star\n",
    "]"
   ]
  },
  {
   "cell_type": "markdown",
   "metadata": {},
   "source": [
    "## Bernoulli 2"
   ]
  },
  {
   "cell_type": "code",
   "execution_count": null,
   "metadata": {},
   "outputs": [],
   "source": [
    "distribution = \"Bernoulli\"\n",
    "model = 'ucb1'\n",
    "env_parameters = params_bernoulli2\n",
    "sim_params = []\n",
    "\n",
    "regrets_bernoulli2_ucb1 = sim.run(distribution, env_parameters, model, sim_params)"
   ]
  },
  {
   "cell_type": "code",
   "execution_count": null,
   "metadata": {},
   "outputs": [],
   "source": [
    "distribution = \"Bernoulli\"\n",
    "model = 'ucb2'\n",
    "env_parameters = params_bernoulli2 \n",
    "sim_params = 0.08342 # alpha\n",
    "\n",
    "regrets_bernoulli2_ucb2 = sim.run(distribution, env_parameters, model, sim_params)"
   ]
  },
  {
   "cell_type": "code",
   "execution_count": null,
   "metadata": {},
   "outputs": [],
   "source": [
    "distribution = \"Bernoulli\"\n",
    "model = 'ucb-normal'\n",
    "env_parameters = params_bernoulli2 \n",
    "sim_params = []\n",
    "\n",
    "regrets_bernoulli2_ucb_normal = sim.run(distribution, env_parameters, model, sim_params)"
   ]
  },
  {
   "cell_type": "code",
   "execution_count": null,
   "metadata": {},
   "outputs": [],
   "source": [
    "distribution = \"Bernoulli\"\n",
    "model = 'ucb-tuned'\n",
    "env_parameters = params_bernoulli2\n",
    "sim_params = []\n",
    "\n",
    "regrets_bernoulli2_ucb_tuned = sim.run(distribution, env_parameters, model, sim_params)"
   ]
  },
  {
   "cell_type": "code",
   "execution_count": null,
   "metadata": {},
   "outputs": [],
   "source": [
    "distribution = \"Bernoulli\"\n",
    "model = 'neural'\n",
    "env_parameters = params_bernoulli2\n",
    "\n",
    "sim_params = [True,    # dynamic LR\n",
    "              .3127,       # alpha_q\n",
    "              .1874,       # alpha_s\n",
    "              1.874,       # lambda\n",
    "              -0.791, # power\n",
    "              0      # e\n",
    "              ]\n",
    "\n",
    "regrets_bernoulli2_neural_dynamic_general_power = sim.run(distribution, env_parameters, model, sim_params, 1000, 5000)"
   ]
  },
  {
   "cell_type": "code",
   "execution_count": null,
   "metadata": {},
   "outputs": [],
   "source": [
    "distribution = \"Bernoulli\"\n",
    "model = 'neural'\n",
    "env_parameters = params_bernoulli2 \n",
    "\n",
    "sim_params = [True,    # dynamic LR\n",
    "              .1249,       # alpha_q\n",
    "              1.3e-4,       # alpha_s\n",
    "              1.699e-3,       # lambda\n",
    "              -0.5, # power\n",
    "              0      # e       \n",
    "              ]         \n",
    "\n",
    "regrets_bernoulli2_neural_dynamic_inv_sqrt = sim.run(distribution, env_parameters, model, sim_params)"
   ]
  },
  {
   "cell_type": "code",
   "execution_count": null,
   "metadata": {},
   "outputs": [],
   "source": [
    "distribution = \"Bernoulli\"\n",
    "model = 'neural'\n",
    "env_parameters = params_bernoulli2\n",
    "\n",
    "sim_params = [False,    # dynamic LR\n",
    "              .06262,       # alpha_q\n",
    "              0.06250,       # alpha_s\n",
    "              0.6262,       # lambda\n",
    "              -0.5, # power\n",
    "              0      # e       \n",
    "              ]         \n",
    "\n",
    "regrets_bernoulli2_neural_fixed_inv_sqrt = sim.run(distribution, env_parameters, model, sim_params)"
   ]
  },
  {
   "cell_type": "code",
   "execution_count": null,
   "metadata": {},
   "outputs": [],
   "source": [
    "distribution = \"Bernoulli\"\n",
    "model = 'neural'\n",
    "env_parameters = params_bernoulli2 \n",
    "\n",
    "sim_params = [False,    # dynamic LR\n",
    "              .06250,       # alpha_q\n",
    "              0.06250,       # alpha_s\n",
    "              0.625,       # lambda\n",
    "              -0.791, # power\n",
    "              0      # e       \n",
    "              ]         \n",
    "\n",
    "regrets_bernoulli2_neural_fixed_general_power = sim.run(distribution, env_parameters, model, sim_params)"
   ]
  },
  {
   "cell_type": "code",
   "execution_count": null,
   "metadata": {},
   "outputs": [],
   "source": [
    "distribution = \"Bernoulli\"\n",
    "model = 'kalman'\n",
    "env_parameters = params_bernoulli2\n",
    "sim_params = [2.208,       # llambda\n",
    "              0        # e\n",
    "              ]\n",
    "\n",
    "regrets_bernoulli2_kalman = sim.run(distribution, env_parameters, model, sim_params)"
   ]
  },
  {
   "cell_type": "code",
   "execution_count": null,
   "metadata": {},
   "outputs": [],
   "source": [
    "distribution = \"Bernoulli\"\n",
    "model = 'opal-star'\n",
    "env_parameters = params_bernoulli2\n",
    "\n",
    "sim_params = [0.025, 0.65, 1]\n",
    "\n",
    "\n",
    "regrets_bernoulli2_opal_star = sim.run(distribution, env_parameters, model, sim_params)"
   ]
  },
  {
   "cell_type": "code",
   "execution_count": null,
   "metadata": {},
   "outputs": [],
   "source": [
    "regrets_bernoulli2 = [\n",
    "    regrets_bernoulli2_ucb1,\n",
    "    regrets_bernoulli2_ucb2,\n",
    "    regrets_bernoulli2_ucb_tuned,\n",
    "    regrets_bernoulli2_ucb_normal,\n",
    "    regrets_bernoulli2_kalman,\n",
    "    regrets_bernoulli2_neural_dynamic_inv_sqrt,\n",
    "    regrets_bernoulli2_neural_dynamic_general_power,\n",
    "    regrets_bernoulli2_neural_fixed_inv_sqrt,\n",
    "    regrets_bernoulli2_neural_fixed_general_power,\n",
    "    regrets_bernoulli2_opal_star\n",
    "]"
   ]
  },
  {
   "attachments": {},
   "cell_type": "markdown",
   "metadata": {},
   "source": [
    "## Bernoulli 3"
   ]
  },
  {
   "attachments": {},
   "cell_type": "markdown",
   "metadata": {},
   "source": [
    "10-armed Bernoulli bandit. 9 have reward probability of 0.8 and one 0.9. "
   ]
  },
  {
   "cell_type": "code",
   "execution_count": 455,
   "metadata": {},
   "outputs": [],
   "source": [
    "distribution = \"Bernoulli\"\n",
    "model = 'ucb1'\n",
    "env_parameters = params_bernoulli3\n",
    "sim_params = []\n",
    "\n",
    "regrets_bernoulli3_ucb1 = sim.run(distribution, env_parameters, model, sim_params)"
   ]
  },
  {
   "cell_type": "code",
   "execution_count": 456,
   "metadata": {},
   "outputs": [],
   "source": [
    "distribution = \"Bernoulli\"\n",
    "model = 'ucb2'\n",
    "env_parameters = params_bernoulli3 \n",
    "sim_params = 0.0970 # alpha\n",
    "\n",
    "regrets_bernoulli3_ucb2 = sim.run(distribution, env_parameters, model, sim_params)"
   ]
  },
  {
   "cell_type": "code",
   "execution_count": 457,
   "metadata": {},
   "outputs": [],
   "source": [
    "distribution = \"Bernoulli\"\n",
    "model = 'ucb-normal'\n",
    "env_parameters = params_bernoulli3 \n",
    "sim_params = []\n",
    "\n",
    "regrets_bernoulli3_ucb_normal = sim.run(distribution, env_parameters, model, sim_params)"
   ]
  },
  {
   "cell_type": "code",
   "execution_count": 458,
   "metadata": {},
   "outputs": [],
   "source": [
    "distribution = \"Bernoulli\"\n",
    "model = 'ucb-tuned'\n",
    "env_parameters = params_bernoulli3\n",
    "sim_params = []\n",
    "\n",
    "regrets_bernoulli3_ucb_tuned = sim.run(distribution, env_parameters, model, sim_params)"
   ]
  },
  {
   "cell_type": "code",
   "execution_count": 115,
   "metadata": {},
   "outputs": [],
   "source": [
    "distribution = \"Bernoulli\"\n",
    "model = 'neural'\n",
    "env_parameters = params_bernoulli3 \n",
    "\n",
    "sim_params = [True,    # dynamic LR\n",
    "              .4376,       # alpha_q\n",
    "              .4374,       # alpha_s\n",
    "              3.123,       # lambda\n",
    "              -0.791, # power\n",
    "              0      # e\n",
    "              ]\n",
    "\n",
    "regrets_bernoulli3_neural_dynamic_general_power = sim.run(distribution, env_parameters, model, sim_params, 1000, 5000)"
   ]
  },
  {
   "cell_type": "code",
   "execution_count": 79,
   "metadata": {},
   "outputs": [],
   "source": [
    "distribution = \"Bernoulli\"\n",
    "model = 'neural'\n",
    "env_parameters = params_bernoulli3 \n",
    "\n",
    "sim_params = [True,    # dynamic LR\n",
    "              .3749,       # alpha_q\n",
    "              0.1251,       # alpha_s\n",
    "              1.249,       # lambda\n",
    "              -0.5, # power\n",
    "              0      # e       \n",
    "              ]         \n",
    "\n",
    "regrets_bernoulli3_neural_dynamic_inv_sqrt = sim.run(distribution, env_parameters, model, sim_params)"
   ]
  },
  {
   "cell_type": "code",
   "execution_count": 66,
   "metadata": {},
   "outputs": [],
   "source": [
    "distribution = \"Bernoulli\"\n",
    "model = 'neural'\n",
    "env_parameters = params_bernoulli3\n",
    "\n",
    "sim_params = [False,    # dynamic LR\n",
    "              .06268,       # alpha_q\n",
    "              0.06268,       # alpha_s\n",
    "              0.6256,       # lambda\n",
    "              -0.5, # power\n",
    "              0      # e       \n",
    "              ]         \n",
    "\n",
    "regrets_bernoulli3_neural_fixed_inv_sqrt = sim.run(distribution, env_parameters, model, sim_params)"
   ]
  },
  {
   "cell_type": "code",
   "execution_count": 69,
   "metadata": {},
   "outputs": [],
   "source": [
    "distribution = \"Bernoulli\"\n",
    "model = 'neural'\n",
    "env_parameters = params_bernoulli3\n",
    "\n",
    "sim_params = [False,    # dynamic LR\n",
    "              .06250,       # alpha_q\n",
    "              0.06250,       # alpha_s\n",
    "              0.6250,       # lambda\n",
    "              -0.791, # power\n",
    "              0      # e       \n",
    "              ]         \n",
    "\n",
    "regrets_bernoulli3_neural_fixed_general_power = sim.run(distribution, env_parameters, model, sim_params)"
   ]
  },
  {
   "cell_type": "code",
   "execution_count": 168,
   "metadata": {},
   "outputs": [],
   "source": [
    "distribution = \"Bernoulli\"\n",
    "model = 'kalman'\n",
    "env_parameters = params_bernoulli3\n",
    "sim_params = [3.03416,       # llambda\n",
    "              0        # e\n",
    "              ]\n",
    "\n",
    "regrets_bernoulli3_kalman = sim.run(distribution, env_parameters, model, sim_params)"
   ]
  },
  {
   "cell_type": "code",
   "execution_count": 23,
   "metadata": {},
   "outputs": [],
   "source": [
    "distribution = \"Bernoulli\"\n",
    "model = 'opal-star'\n",
    "env_parameters = params_bernoulli3\n",
    "\n",
    "sim_params = [0.025, 1.0, 1]\n",
    "\n",
    "regrets_bernoulli3_opal_star = sim.run(distribution, env_parameters, model, sim_params)"
   ]
  },
  {
   "cell_type": "code",
   "execution_count": 463,
   "metadata": {},
   "outputs": [],
   "source": [
    "regrets_bernoulli3 = [\n",
    "    regrets_bernoulli3_ucb1,\n",
    "    regrets_bernoulli3_ucb2,\n",
    "    regrets_bernoulli3_ucb_tuned,\n",
    "    regrets_bernoulli3_ucb_normal,\n",
    "    regrets_bernoulli3_kalman,\n",
    "    regrets_bernoulli3_neural_dynamic_inv_sqrt,\n",
    "    regrets_bernoulli3_neural_dynamic_general_power,\n",
    "    regrets_bernoulli3_neural_fixed_inv_sqrt,\n",
    "    regrets_bernoulli3_neural_fixed_general_power,\n",
    "    regrets_bernoulli3_opal_star\n",
    "]"
   ]
  },
  {
   "attachments": {},
   "cell_type": "markdown",
   "metadata": {},
   "source": [
    "## Gaussian"
   ]
  },
  {
   "cell_type": "code",
   "execution_count": 467,
   "metadata": {},
   "outputs": [],
   "source": [
    "distribution = \"Gaussian\"\n",
    "model = 'ucb1'\n",
    "env_parameters = params_gaussian\n",
    "sim_params = []\n",
    "\n",
    "regrets_gaussian_ucb1 = sim.run(distribution, env_parameters, model, sim_params)"
   ]
  },
  {
   "cell_type": "code",
   "execution_count": 468,
   "metadata": {},
   "outputs": [],
   "source": [
    "distribution = \"Gaussian\"\n",
    "model = 'ucb2'\n",
    "env_parameters = params_gaussian\n",
    "sim_params = 0.113 # alpha\n",
    "\n",
    "regrets_gaussian_ucb2 = sim.run(distribution, env_parameters, model, sim_params)"
   ]
  },
  {
   "cell_type": "code",
   "execution_count": 469,
   "metadata": {},
   "outputs": [],
   "source": [
    "distribution = \"Gaussian\"\n",
    "model = 'ucb-tuned'\n",
    "env_parameters = params_gaussian\n",
    "sim_params = []\n",
    "\n",
    "regrets_gaussian_ucb_tuned = sim.run(distribution, env_parameters, model, sim_params)"
   ]
  },
  {
   "cell_type": "code",
   "execution_count": 470,
   "metadata": {},
   "outputs": [],
   "source": [
    "distribution = \"Gaussian\"\n",
    "model = 'ucb-normal'\n",
    "env_parameters = params_gaussian\n",
    "sim_params = []\n",
    "\n",
    "regrets_gaussian_ucb_normal = sim.run(distribution, env_parameters, model, sim_params)"
   ]
  },
  {
   "cell_type": "code",
   "execution_count": 176,
   "metadata": {},
   "outputs": [],
   "source": [
    "distribution = \"Gaussian\"\n",
    "model = 'kalman'\n",
    "env_parameters = params_gaussian\n",
    "sim_params = [2.18847, # lambda\n",
    "              0] # e\n",
    "\n",
    "regrets_gaussian_kalman = sim.run(distribution, env_parameters, model, sim_params)"
   ]
  },
  {
   "cell_type": "code",
   "execution_count": 112,
   "metadata": {},
   "outputs": [],
   "source": [
    "distribution = \"Gaussian\"\n",
    "model = 'neural'\n",
    "env_parameters = params_gaussian\n",
    "\n",
    "sim_params = [True,    # dynamic LR\n",
    "              .375,       # alpha_q\n",
    "              .25,       # alpha_s\n",
    "              2.5,       # lambda\n",
    "              -0.791, # power\n",
    "              0      # e       \n",
    "              ]   \n",
    "\n",
    "regrets_gaussian_neural_dynamic_general = sim.run(distribution, env_parameters, model, sim_params)"
   ]
  },
  {
   "cell_type": "code",
   "execution_count": 178,
   "metadata": {},
   "outputs": [],
   "source": [
    "distribution = \"Gaussian\"\n",
    "model = 'neural'\n",
    "env_parameters = params_gaussian\n",
    "\n",
    "sim_params = [True,    # dynamic LR\n",
    "              .1252,       # alpha_q\n",
    "              .1245,       # alpha_s\n",
    "              1.249,       # lambda\n",
    "              -0.5, # power\n",
    "              0      # e       \n",
    "              ]      \n",
    "\n",
    "regrets_gaussian_neural_dynamic_inv_sqrt = sim.run(distribution, env_parameters, model, sim_params)"
   ]
  },
  {
   "cell_type": "code",
   "execution_count": 104,
   "metadata": {},
   "outputs": [],
   "source": [
    "distribution = \"Gaussian\"\n",
    "model = 'neural'\n",
    "env_parameters = params_gaussian\n",
    "\n",
    "sim_params = [False,    # dynamic LR\n",
    "              .06277,       # alpha_q\n",
    "              0.06244,       # alpha_s\n",
    "              0.6262,       # lambda\n",
    "              -0.5, # power\n",
    "              0      # e       \n",
    "              ]   \n",
    "\n",
    "regrets_gaussian_neural_fixed_inv_sqrt = sim.run(distribution, env_parameters, model, sim_params)"
   ]
  },
  {
   "cell_type": "code",
   "execution_count": 105,
   "metadata": {},
   "outputs": [],
   "source": [
    "distribution = \"Gaussian\"\n",
    "model = 'neural'\n",
    "env_parameters = params_gaussian\n",
    "\n",
    "sim_params = [False,    # dynamic LR\n",
    "              .06250,       # alpha_q\n",
    "              0.06250,       # alpha_s\n",
    "              0.625,       # lambda\n",
    "              -0.791, # power\n",
    "              0      # e       \n",
    "              ]      \n",
    "\n",
    "regrets_gaussian_neural_fixed_general_power = sim.run(distribution, env_parameters, model, sim_params)"
   ]
  },
  {
   "cell_type": "code",
   "execution_count": 210,
   "metadata": {},
   "outputs": [],
   "source": [
    "distribution = \"Gaussian\"\n",
    "model = 'opal-star'\n",
    "env_parameters = params_gaussian\n",
    "\n",
    "sim_params = [0.025, 0.95, 10.0]\n",
    "\n",
    "regrets_gaussian_opal_star= sim.run(distribution, env_parameters, model, sim_params)"
   ]
  },
  {
   "cell_type": "code",
   "execution_count": 480,
   "metadata": {},
   "outputs": [],
   "source": [
    "regrets_gaussian = [\n",
    "    regrets_gaussian_ucb1,\n",
    "    regrets_gaussian_ucb2,\n",
    "    regrets_gaussian_ucb_tuned,\n",
    "    regrets_gaussian_ucb_normal,\n",
    "    regrets_gaussian_kalman,\n",
    "    regrets_gaussian_neural_dynamic_inv_sqrt,\n",
    "    regrets_gaussian_neural_dynamic_general,\n",
    "    regrets_gaussian_neural_fixed_inv_sqrt,\n",
    "    regrets_gaussian_neural_fixed_general_power\n",
    "]"
   ]
  },
  {
   "cell_type": "markdown",
   "metadata": {},
   "source": [
    "## Gershman Experiment 2"
   ]
  },
  {
   "cell_type": "code",
   "execution_count": 222,
   "metadata": {},
   "outputs": [],
   "source": [
    "distribution = \"Gaussian\"\n",
    "model = 'ucb1'\n",
    "env_parameters = params_gershman \n",
    "sim_params = []\n",
    "\n",
    "regrets_gershman_ucb1 = sim.run(distribution, env_parameters, model, sim_params, N=20000, T=10, random_mean=True)"
   ]
  },
  {
   "cell_type": "code",
   "execution_count": 41,
   "metadata": {},
   "outputs": [],
   "source": [
    "distribution = \"Gaussian\"\n",
    "model = 'ucb2'\n",
    "env_parameters = params_gershman\n",
    "sim_params = 0.154280 # alpha\n",
    "\n",
    "regrets_gershman_ucb2 = sim.run(distribution, env_parameters, model, sim_params, N=20000, T=10, random_mean=True)"
   ]
  },
  {
   "cell_type": "code",
   "execution_count": 50,
   "metadata": {},
   "outputs": [],
   "source": [
    "distribution = \"Gaussian\"\n",
    "model = 'ucb-tuned'\n",
    "env_parameters = params_gershman\n",
    "sim_params = []\n",
    "\n",
    "regrets_gershman_ucb_tuned = sim.run(distribution, env_parameters, model, sim_params, N=20000, T=10, random_mean=True)"
   ]
  },
  {
   "cell_type": "code",
   "execution_count": 226,
   "metadata": {},
   "outputs": [],
   "source": [
    "distribution = \"Gaussian\"\n",
    "model = 'ucb-normal'\n",
    "env_parameters = params_gershman\n",
    "sim_params = []\n",
    "\n",
    "regrets_gershman_ucb_normal = sim.run(distribution, env_parameters, model, sim_params, N=20000, T=10, random_mean=True)"
   ]
  },
  {
   "cell_type": "code",
   "execution_count": 42,
   "metadata": {},
   "outputs": [],
   "source": [
    "distribution = \"Gaussian\"\n",
    "model = 'kalman'\n",
    "env_parameters = params_gershman\n",
    "sim_params = [0.8334196612069588, # lambda\n",
    "              0] # e\n",
    "\n",
    "regrets_gershman_kalman = sim.run(distribution, env_parameters, model, sim_params, N=20000, T=10, random_mean=True)"
   ]
  },
  {
   "cell_type": "code",
   "execution_count": 238,
   "metadata": {},
   "outputs": [],
   "source": [
    "distribution = \"Gaussian\"\n",
    "model = 'opal-star'\n",
    "env_parameters = params_gershman\n",
    "\n",
    "sim_params = [0.025, 0.55, 4.0]\n",
    "# sim_params = [0.025, 0.75, 15.0]\n",
    "\n",
    "regrets_gershman_opal_star= sim.run(distribution, env_parameters, model, sim_params, N=20000, T=10, random_mean=True)"
   ]
  },
  {
   "cell_type": "code",
   "execution_count": 134,
   "metadata": {},
   "outputs": [],
   "source": [
    "distribution = \"Gaussian\"\n",
    "model = 'neural'\n",
    "env_parameters = params_gershman\n",
    "\n",
    "sim_params = [True,    # dynamic LR\n",
    "              .9376,       # alpha_q\n",
    "              .9375,       # alpha_s\n",
    "              .626,       # lambda\n",
    "              -0.791, # power\n",
    "              0      # e       \n",
    "              ]   \n",
    "\n",
    "regrets_gershman_neural_dynamic_general = sim.run(distribution, env_parameters, model, sim_params, N=20000, T=10, random_mean=True)"
   ]
  },
  {
   "cell_type": "code",
   "execution_count": 135,
   "metadata": {},
   "outputs": [],
   "source": [
    "distribution = \"Gaussian\"\n",
    "model = 'neural'\n",
    "env_parameters = params_gershman\n",
    "\n",
    "sim_params = [True,    # dynamic LR\n",
    "              .75,       # alpha_q\n",
    "              1.662e-5,       # alpha_s\n",
    "              1.271e-3,       # lambda\n",
    "              -0.5, # power\n",
    "              0      # e       \n",
    "              ]   \n",
    "\n",
    "regrets_gershman_neural_dynamic_inv_sqrt = sim.run(distribution, env_parameters, model, sim_params, N=20000, T=10, random_mean=True)"
   ]
  },
  {
   "cell_type": "code",
   "execution_count": 131,
   "metadata": {},
   "outputs": [],
   "source": [
    "distribution = \"Gaussian\"\n",
    "model = 'neural'\n",
    "env_parameters = params_gershman\n",
    "\n",
    "sim_params = [False,    # dynamic LR\n",
    "              .875,       # alpha_q\n",
    "              0.625,       # alpha_s\n",
    "              0,       # lambda\n",
    "              -0.791, # power\n",
    "              0      # e       \n",
    "              ]      \n",
    "\n",
    "regrets_gershman_neural_fixed_general_power = sim.run(distribution, env_parameters, model, sim_params, N=20000, T=10, random_mean=True)"
   ]
  },
  {
   "cell_type": "code",
   "execution_count": 49,
   "metadata": {},
   "outputs": [],
   "source": [
    "distribution = \"Gaussian\"\n",
    "model = 'neural'\n",
    "env_parameters = params_gershman\n",
    "\n",
    "sim_params = [False,    # dynamic LR\n",
    "              .875,       # alpha_q\n",
    "              0.75,       # alpha_s\n",
    "              0,       # lambda\n",
    "              -0.5, # power\n",
    "              0      # e       \n",
    "              ]      \n",
    "\n",
    "regrets_gershman_neural_fixed_inv_sqrt = sim.run(distribution, env_parameters, model, sim_params, N=20000, T=10, random_mean=True)"
   ]
  },
  {
   "cell_type": "code",
   "execution_count": 51,
   "metadata": {},
   "outputs": [],
   "source": [
    "regrets_gershman = [\n",
    "    regrets_gershman_ucb1,\n",
    "    regrets_gershman_ucb2,\n",
    "    regrets_gershman_ucb_tuned,\n",
    "    regrets_gershman_ucb_normal,\n",
    "    regrets_gershman_kalman,\n",
    "    regrets_gershman_neural_dynamic_inv_sqrt,\n",
    "    regrets_gershman_neural_dynamic_general,\n",
    "    regrets_gershman_neural_fixed_inv_sqrt,\n",
    "    regrets_gershman_neural_fixed_general_power,\n",
    "    regrets_gershman_opal_star\n",
    "]"
   ]
  },
  {
   "cell_type": "markdown",
   "metadata": {},
   "source": [
    "## Save"
   ]
  },
  {
   "cell_type": "code",
   "execution_count": null,
   "metadata": {},
   "outputs": [],
   "source": [
    "# with open('results/regrets_bernoulli1', 'wb') as f:  # result saving, takes up ~300MB\n",
    "#     pickle.dump(regrets_bernoulli1, f) "
   ]
  },
  {
   "cell_type": "code",
   "execution_count": null,
   "metadata": {},
   "outputs": [],
   "source": [
    "# with open('results/regrets_bernoulli2', 'wb') as f:\n",
    "#     pickle.dump(regrets_bernoulli2, f)"
   ]
  },
  {
   "cell_type": "code",
   "execution_count": null,
   "metadata": {},
   "outputs": [],
   "source": [
    "# with open('results/regrets_bernoulli3', 'wb') as f:\n",
    "#     pickle.dump(regrets_bernoulli3, f)"
   ]
  },
  {
   "cell_type": "code",
   "execution_count": null,
   "metadata": {},
   "outputs": [],
   "source": [
    "# with open('results/regrets_gaussian', 'wb') as f:\n",
    "#     pickle.dump(regrets_gaussian, f)"
   ]
  },
  {
   "cell_type": "code",
   "execution_count": 140,
   "metadata": {},
   "outputs": [],
   "source": [
    "# with open('results/regrets_gershman', 'wb') as f:\n",
    "#     pickle.dump(regrets_gershman, f)"
   ]
  },
  {
   "cell_type": "markdown",
   "metadata": {},
   "source": [
    "## Load"
   ]
  },
  {
   "cell_type": "code",
   "execution_count": 4,
   "metadata": {},
   "outputs": [],
   "source": [
    "with open('results/regrets_bernoulli1','rb') as f:\n",
    "    regrets_bernoulli1 = pickle.load(f)"
   ]
  },
  {
   "cell_type": "code",
   "execution_count": 5,
   "metadata": {},
   "outputs": [],
   "source": [
    "with open('results/regrets_bernoulli2', 'rb') as f:\n",
    "    regrets_bernoulli2 = pickle.load(f)"
   ]
  },
  {
   "cell_type": "code",
   "execution_count": 6,
   "metadata": {},
   "outputs": [],
   "source": [
    "with open('results/regrets_bernoulli3', 'rb') as f:\n",
    "    regrets_bernoulli3 = pickle.load(f)"
   ]
  },
  {
   "cell_type": "code",
   "execution_count": 7,
   "metadata": {},
   "outputs": [],
   "source": [
    "with open('results/regrets_gaussian', 'rb') as f:\n",
    "    regrets_gaussian = pickle.load(f)"
   ]
  },
  {
   "cell_type": "code",
   "execution_count": 8,
   "metadata": {},
   "outputs": [],
   "source": [
    "with open('results/regrets_gershman', 'rb') as f:\n",
    "    regrets_gershman = pickle.load(f)"
   ]
  },
  {
   "attachments": {},
   "cell_type": "markdown",
   "metadata": {},
   "source": [
    "## Plotting"
   ]
  },
  {
   "cell_type": "code",
   "execution_count": 10,
   "metadata": {},
   "outputs": [
    {
     "data": {
      "text/plain": [
       "<matplotlib.legend.Legend at 0x16e89ba30>"
      ]
     },
     "execution_count": 10,
     "metadata": {},
     "output_type": "execute_result"
    },
    {
     "data": {
      "image/png": "[encoded data removed]",
      "text/plain": [
       "<Figure size 850x500 with 5 Axes>"
      ]
     },
     "metadata": {},
     "output_type": "display_data"
    }
   ],
   "source": [
    "fig_all = plt.figure(figsize=(8.5,5))\n",
    "indices = np.arange(0,5000,300)\n",
    "\n",
    "lines1 = []\n",
    "\n",
    "greens = pl.cm.Greens(np.linspace(0.2, 0.8, 4))\n",
    "oranges = pl.cm.Oranges(np.linspace(0.3, 0.7, 2))\n",
    "\n",
    "\n",
    "fig_all.ax1 = plt.subplot(231)\n",
    "for i in range(4):\n",
    "    line = fig_all.ax1.errorbar(indices, np.mean(regrets_bernoulli1[i]['regrets'], axis=0)[indices], yerr=stats.sem(regrets_bernoulli1[i]['regrets'], axis=0)[indices], linewidth=1, color=greens[i])\n",
    "    lines1.append(line)\n",
    "fig_all.ax1.set_xlim(0,5000)\n",
    "fig_all.ax1.set_ylim(-0.005,0.105)\n",
    "\n",
    "line = fig_all.ax1.errorbar(indices, np.mean(regrets_bernoulli1[4]['regrets'], axis=0)[indices], yerr=stats.sem(regrets_bernoulli1[4]['regrets'], axis=0)[indices], linewidth=1, color='tab:blue')\n",
    "lines1.append(line)\n",
    "line = fig_all.ax1.errorbar(indices, np.mean(regrets_bernoulli1[9]['regrets'], axis=0)[indices], yerr=stats.sem(regrets_bernoulli1[9]['regrets'], axis=0)[indices], linewidth=1, color='tab:purple')\n",
    "lines1.append(line)\n",
    "line = fig_all.ax1.errorbar(indices, np.mean(regrets_bernoulli1[7]['regrets'], axis=0)[indices], yerr=stats.sem(regrets_bernoulli1[7]['regrets'], axis=0)[indices], linewidth=1, color=oranges[0])\n",
    "lines1.append(line)\n",
    "line = fig_all.ax1.errorbar(indices, np.mean(regrets_bernoulli1[8]['regrets'], axis=0)[indices], yerr=stats.sem(regrets_bernoulli1[8]['regrets'], axis=0)[indices], linewidth=1, color=oranges[1])\n",
    "lines1.append(line)\n",
    "line = fig_all.ax1.errorbar(indices, np.mean(regrets_bernoulli1[5]['regrets'], axis=0)[indices], yerr=stats.sem(regrets_bernoulli1[5]['regrets'], axis=0)[indices], linewidth=1, linestyle='--', color=oranges[0])\n",
    "lines1.append(line)\n",
    "line = fig_all.ax1.errorbar(indices, np.mean(regrets_bernoulli1[6]['regrets'], axis=0)[indices], yerr=stats.sem(regrets_bernoulli1[6]['regrets'], axis=0)[indices], linewidth=1, linestyle='--', color=oranges[1])\n",
    "lines1.append(line)\n",
    "plt.xticks(fontsize=8)\n",
    "plt.yticks(fontsize=8)\n",
    "\n",
    "fig_all.ax2 = plt.subplot(232)\n",
    "for i in range(4):\n",
    "    line = fig_all.ax2.errorbar(indices, np.mean(regrets_bernoulli3[i]['regrets'], axis=0)[indices], yerr=stats.sem(regrets_bernoulli3[i]['regrets'], axis=0)[indices], linewidth=1, color=greens[i])\n",
    "fig_all.ax2.set_xlim(0,5000)\n",
    "fig_all.ax2.set_ylim(-0.005,0.105)\n",
    "\n",
    "fig_all.ax2.errorbar(indices, np.mean(regrets_bernoulli3[4]['regrets'], axis=0)[indices], yerr=stats.sem(regrets_bernoulli3[4]['regrets'], axis=0)[indices], linewidth=1, color='tab:blue')\n",
    "fig_all.ax2.errorbar(indices, np.mean(regrets_bernoulli3[9]['regrets'], axis=0)[indices], yerr=stats.sem(regrets_bernoulli3[9]['regrets'], axis=0)[indices], linewidth=1, color='tab:purple')\n",
    "fig_all.ax2.errorbar(indices, np.mean(regrets_bernoulli3[7]['regrets'], axis=0)[indices], yerr=stats.sem(regrets_bernoulli3[7]['regrets'], axis=0)[indices], linewidth=1, color=oranges[0])\n",
    "fig_all.ax2.errorbar(indices, np.mean(regrets_bernoulli3[8]['regrets'], axis=0)[indices], yerr=stats.sem(regrets_bernoulli3[8]['regrets'], axis=0)[indices], linewidth=1, color=oranges[1])\n",
    "fig_all.ax2.errorbar(indices, np.mean(regrets_bernoulli3[5]['regrets'], axis=0)[indices], yerr=stats.sem(regrets_bernoulli3[5]['regrets'], axis=0)[indices], linewidth=1, linestyle='--', color=oranges[0])\n",
    "fig_all.ax2.errorbar(indices, np.mean(regrets_bernoulli3[6]['regrets'], axis=0)[indices], yerr=stats.sem(regrets_bernoulli3[6]['regrets'], axis=0)[indices], linewidth=1, linestyle='--', color=oranges[1])\n",
    "plt.xticks(fontsize=8)\n",
    "plt.yticks(fontsize=8)\n",
    "\n",
    "fig_all.ax3 = plt.subplot(233)\n",
    "for i in range(4):\n",
    "    line = fig_all.ax3.errorbar(indices, np.mean(regrets_gaussian[i]['regrets'], axis=0)[indices], yerr=stats.sem(regrets_gaussian[i]['regrets'], axis=0)[indices], linewidth=1, color=greens[i])\n",
    "fig_all.ax3.set_xlim(0,5000)\n",
    "fig_all.ax3.set_ylim(-0.005,0.105)\n",
    "\n",
    "fig_all.ax3.errorbar(indices, np.mean(regrets_gaussian[4]['regrets'], axis=0)[indices], yerr=stats.sem(regrets_gaussian[4]['regrets'], axis=0)[indices], linewidth=1, color='tab:blue')\n",
    "fig_all.ax3.errorbar(indices, np.mean(regrets_gaussian[7]['regrets'], axis=0)[indices], yerr=stats.sem(regrets_gaussian[7]['regrets'], axis=0)[indices], linewidth=1, color=oranges[0])\n",
    "fig_all.ax3.errorbar(indices, np.mean(regrets_gaussian[8]['regrets'], axis=0)[indices], yerr=stats.sem(regrets_gaussian[8]['regrets'], axis=0)[indices], linewidth=1, color=oranges[1])\n",
    "fig_all.ax3.errorbar(indices, np.mean(regrets_gaussian[5]['regrets'], axis=0)[indices], yerr=stats.sem(regrets_gaussian[5]['regrets'], axis=0)[indices], linewidth=1, linestyle='--', color=oranges[0])\n",
    "fig_all.ax3.errorbar(indices, np.mean(regrets_gaussian[6]['regrets'], axis=0)[indices], yerr=stats.sem(regrets_gaussian[6]['regrets'], axis=0)[indices], linewidth=1, linestyle='--', color=oranges[1])\n",
    "plt.xticks(fontsize=8)\n",
    "plt.yticks(fontsize=8)\n",
    "\n",
    "\n",
    "indices1= np.arange(0, 10, 1)\n",
    "\n",
    "fig_all.ax4 = plt.subplot(234)\n",
    "for i in range(4):\n",
    "    line = fig_all.ax4.errorbar(indices1+1, np.mean(regrets_gershman[i]['regrets'], axis=0)[indices1], yerr=stats.sem(regrets_gershman[i]['regrets'], axis=0)[indices1], linewidth=1, color=greens[i])\n",
    "fig_all.ax4.set_xlim(1,10)\n",
    "\n",
    "fig_all.ax4.errorbar(indices1+1, np.mean(regrets_gershman[4]['regrets'], axis=0)[indices1], yerr=stats.sem(regrets_gershman[4]['regrets'], axis=0)[indices1], linewidth=1, color='tab:blue')\n",
    "fig_all.ax4.errorbar(indices1+1, np.mean(regrets_gershman[7]['regrets'], axis=0)[indices1], yerr=stats.sem(regrets_gershman[7]['regrets'], axis=0)[indices1], linewidth=1, color=oranges[0])\n",
    "fig_all.ax4.errorbar(indices1+1, np.mean(regrets_gershman[8]['regrets'], axis=0)[indices1], yerr=stats.sem(regrets_gershman[8]['regrets'], axis=0)[indices1], linewidth=1, color=oranges[1])\n",
    "fig_all.ax4.errorbar(indices1+1, np.mean(regrets_gershman[5]['regrets'], axis=0)[indices1], yerr=stats.sem(regrets_gershman[5]['regrets'], axis=0)[indices1], linewidth=1, linestyle='--', color=oranges[0])\n",
    "fig_all.ax4.errorbar(indices1+1, np.mean(regrets_gershman[6]['regrets'], axis=0)[indices1], yerr=stats.sem(regrets_gershman[6]['regrets'], axis=0)[indices1], linewidth=1, linestyle='--', color=oranges[1])\n",
    "plt.xticks(fontsize=8)\n",
    "plt.yticks(fontsize=8)\n",
    "\n",
    "fig_all.ax5 = plt.subplot(235)\n",
    "for i in range(4):\n",
    "    line = fig_all.ax5.errorbar(indices, np.mean(regrets_bernoulli2[i]['regrets'], axis=0)[indices], yerr=stats.sem(regrets_bernoulli2[i]['regrets'], axis=0)[indices], linewidth=1, color=greens[i])\n",
    "fig_all.ax5.set_xlim(0,5000)\n",
    "fig_all.ax5.set_ylim(-0.005,0.105)\n",
    "\n",
    "fig_all.ax5.errorbar(indices, np.mean(regrets_bernoulli2[4]['regrets'], axis=0)[indices], yerr=stats.sem(regrets_bernoulli2[4]['regrets'], axis=0)[indices], linewidth=1, color='tab:blue')\n",
    "fig_all.ax5.errorbar(indices, np.mean(regrets_bernoulli2[9]['regrets'], axis=0)[indices], yerr=stats.sem(regrets_bernoulli2[9]['regrets'], axis=0)[indices], linewidth=1, color='tab:purple')\n",
    "fig_all.ax5.errorbar(indices, np.mean(regrets_bernoulli2[7]['regrets'], axis=0)[indices], yerr=stats.sem(regrets_bernoulli2[7]['regrets'], axis=0)[indices], linewidth=1, color=oranges[0])\n",
    "fig_all.ax5.errorbar(indices, np.mean(regrets_bernoulli2[8]['regrets'], axis=0)[indices], yerr=stats.sem(regrets_bernoulli2[8]['regrets'], axis=0)[indices], linewidth=1, color=oranges[1])\n",
    "fig_all.ax5.errorbar(indices, np.mean(regrets_bernoulli2[5]['regrets'], axis=0)[indices], yerr=stats.sem(regrets_bernoulli2[5]['regrets'], axis=0)[indices], linewidth=1, linestyle='--', color=oranges[0])\n",
    "fig_all.ax5.errorbar(indices, np.mean(regrets_bernoulli2[6]['regrets'], axis=0)[indices], yerr=stats.sem(regrets_bernoulli2[6]['regrets'], axis=0)[indices], linewidth=1, linestyle='--', color=oranges[1])\n",
    "plt.xticks(fontsize=8)\n",
    "plt.yticks(fontsize=8)\n",
    "\n",
    "fig_all.ax1.set_title('Bernoulli, $K=10$, $\\mu^+ = 0.55$,  $\\mu^- = 0.45$', fontsize=8)\n",
    "fig_all.ax2.set_title('Bernoulli, $K=10$, $\\mu^+ = 0.9$,  $\\mu^- = 0.8$', fontsize=8)\n",
    "fig_all.ax3.set_title('Gaussian, $K=10$, $\\mu^+ = 0.55$,  $\\mu^- = 0.45$, $\\sigma = 0.3$', fontsize=8)\n",
    "fig_all.ax4.set_title('Gaussian, $K=2$, $\\mu_1, \\mu_2 \\sim \\mathcal{N}(0,10)$, $\\sigma = 1$', fontsize=8)\n",
    "fig_all.ax5.set_title('Bernoulli, $K=6$, $\\mu^+ = 0.3$,  $\\mu^- = 0.2$', fontsize=8)\n",
    "\n",
    "fig_all.ax1.set_xlabel('Trial', fontsize=8)\n",
    "fig_all.ax2.set_xlabel('Trial', fontsize=8)\n",
    "fig_all.ax3.set_xlabel('Trial', fontsize=8)\n",
    "fig_all.ax4.set_xlabel('Trial', fontsize=8)\n",
    "fig_all.ax5.set_xlabel('Trial', fontsize=8)\n",
    "\n",
    "fig_all.ax1.set_ylabel('Regret', fontsize=8)\n",
    "fig_all.ax4.set_ylabel('Regret', fontsize=8)\n",
    "\n",
    "\n",
    "fig_all.tight_layout()\n",
    "\n",
    "fig_all.legend(lines1, ['UCB1', 'UCB2', 'UCB1-tuned', 'UCB1-normal', 'Kalman', 'OpAL*', 'Neural, fixed, $\\pi=-0.5$', 'Neural, fixed, $\\pi=-0.791$', 'Neural, dynamic, $\\pi=-0.5$', 'Neural, dynamic, $\\pi=-0.791$'], \n",
    "            bbox_to_anchor=(0.99, 0.265), loc='center right', ncols=1,  fontsize=8)"
   ]
  }
 ],
 "metadata": {
  "kernelspec": {
   "display_name": "cost_benefit",
   "language": "python",
   "name": "python3"
  },
  "language_info": {
   "codemirror_mode": {
    "name": "ipython",
    "version": 3
   },
   "file_extension": ".py",
   "mimetype": "text/x-python",
   "name": "python",
   "nbconvert_exporter": "python",
   "pygments_lexer": "ipython3",
   "version": "3.10.12"
  },
  "orig_nbformat": 4
 },
 "nbformat": 4,
 "nbformat_minor": 2
}
